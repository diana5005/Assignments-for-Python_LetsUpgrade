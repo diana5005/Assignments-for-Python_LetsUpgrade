{
 "cells": [
  {
   "cell_type": "markdown",
   "metadata": {},
   "source": [
    "# Question 1"
   ]
  },
  {
   "cell_type": "markdown",
   "metadata": {},
   "source": [
    "Write a Python program to print all Prime numbers in an Interval."
   ]
  },
  {
   "cell_type": "markdown",
   "metadata": {},
   "source": [
    "Method 1: Using Flag"
   ]
  },
  {
   "cell_type": "code",
   "execution_count": 1,
   "metadata": {},
   "outputs": [
    {
     "name": "stdout",
     "output_type": "stream",
     "text": [
      "Enter the initial point of the interval\n",
      "10\n",
      "Enter the end point of the interval\n",
      "20\n",
      "All prime numbers between 10 and 20 are:\n",
      "11 13 17 19 "
     ]
    }
   ],
   "source": [
    "initial_point = int(input(\"Enter the initial point of the interval\\n\"))\n",
    "end_point = int(input(\"Enter the end point of the interval\\n\"))\n",
    "\n",
    "print(\"All prime numbers between\",initial_point,\"and\",end_point,\"are:\")\n",
    "\n",
    "for element in range(initial_point, end_point+1):\n",
    "    if element>1:\n",
    "        count=0\n",
    "        divisor=2\n",
    "        while divisor<=element/2:\n",
    "            if element%divisor==0:\n",
    "                count+=1\n",
    "            divisor+=1\n",
    "        if count==0:\n",
    "            print(element, end=\" \")       "
   ]
  },
  {
   "cell_type": "markdown",
   "metadata": {},
   "source": [
    "Method 2: Using for-else"
   ]
  },
  {
   "cell_type": "code",
   "execution_count": 2,
   "metadata": {},
   "outputs": [
    {
     "name": "stdout",
     "output_type": "stream",
     "text": [
      "Enter the initial point of the interval\n",
      "1\n",
      "Enter the end point of the interval\n",
      "7\n",
      "All prime numbers between 1 and 7 are:\n",
      "2 3 5 7 "
     ]
    }
   ],
   "source": [
    "initial_point = int(input(\"Enter the initial point of the interval\\n\"))\n",
    "end_point = int(input(\"Enter the end point of the interval\\n\"))\n",
    "\n",
    "print(\"All prime numbers between\",initial_point,\"and\",end_point,\"are:\")\n",
    "\n",
    "for element in range(initial_point, end_point+1):\n",
    "    if element>1:\n",
    "        for div in range(2, int(element/2)+1):\n",
    "            if element%div==0:\n",
    "                break\n",
    "        else:\n",
    "            print(element, end=\" \")\n",
    "            "
   ]
  },
  {
   "cell_type": "markdown",
   "metadata": {},
   "source": [
    "# Question 2"
   ]
  },
  {
   "cell_type": "markdown",
   "metadata": {},
   "source": [
    "Write a Python Program for factorial of a number."
   ]
  },
  {
   "cell_type": "markdown",
   "metadata": {},
   "source": [
    "Method 1: Using Built in function"
   ]
  },
  {
   "cell_type": "code",
   "execution_count": 3,
   "metadata": {},
   "outputs": [
    {
     "name": "stdout",
     "output_type": "stream",
     "text": [
      "Enter a number \n",
      "0\n",
      "The required factorial of the given number is : 1\n"
     ]
    }
   ],
   "source": [
    "import math\n",
    "number=int(input(\"Enter a number \\n\"))\n",
    "fact=math.factorial(number)\n",
    "print(\"The required factorial of the given number is :\",fact)"
   ]
  },
  {
   "cell_type": "markdown",
   "metadata": {},
   "source": [
    "Method 2: Using Loop"
   ]
  },
  {
   "cell_type": "code",
   "execution_count": 4,
   "metadata": {},
   "outputs": [
    {
     "name": "stdout",
     "output_type": "stream",
     "text": [
      "Enter a number\n",
      "10\n",
      "The factorial of  10 is:  3628800\n"
     ]
    }
   ],
   "source": [
    "number = int(input(\"Enter a number\\n\"))\n",
    "\n",
    "if number<0:\n",
    "    print(\"The given number is a negative number, please enter a non negative number\")\n",
    "\n",
    "elif number==0:\n",
    "    print(\"The factorial of \",number,\"is: \",\"1\")\n",
    "\n",
    "else:\n",
    "    fact=1\n",
    "    for i in range(1,number+1):\n",
    "        fact=fact*i\n",
    "    print(\"The factorial of \",number,\"is: \",fact)"
   ]
  },
  {
   "cell_type": "markdown",
   "metadata": {},
   "source": [
    "Method 3: Using Recursion"
   ]
  },
  {
   "cell_type": "code",
   "execution_count": 5,
   "metadata": {},
   "outputs": [
    {
     "name": "stdout",
     "output_type": "stream",
     "text": [
      "Enter a number\n",
      "100\n",
      "The factorial of  100 is:  93326215443944152681699238856266700490715968264381621468592963895217599993229915608941463976156518286253697920827223758251185210916864000000000000000000000000\n"
     ]
    }
   ],
   "source": [
    "def fact(n):\n",
    "    if n==1:\n",
    "        return n\n",
    "    else:\n",
    "        return n*fact(n-1)\n",
    "\n",
    "number = int(input(\"Enter a number\\n\"))\n",
    "\n",
    "if number<0:\n",
    "    print(\"The given number is a negative number, please enter a non negative number\")\n",
    "\n",
    "elif number==0:\n",
    "    print(\"The factorial of \",number,\"is: \",\"1\")\n",
    "\n",
    "else:\n",
    "    print(\"The factorial of \",number,\"is: \",fact(number))"
   ]
  },
  {
   "cell_type": "markdown",
   "metadata": {},
   "source": [
    "# Question 3"
   ]
  },
  {
   "cell_type": "markdown",
   "metadata": {},
   "source": [
    "Find the sum of n numbers by using the while loop"
   ]
  },
  {
   "cell_type": "code",
   "execution_count": 6,
   "metadata": {},
   "outputs": [
    {
     "name": "stdout",
     "output_type": "stream",
     "text": [
      "Enter as number\n",
      "100\n",
      "Therefore the required sum is:  5050\n"
     ]
    }
   ],
   "source": [
    "n=int(input(\"Enter as number\\n\"))\n",
    "\n",
    "sum=0\n",
    "i=1\n",
    "while(i<=n):\n",
    "    sum=sum+i\n",
    "    i+=1\n",
    "print(\"Therefore the required sum is: \",sum)"
   ]
  },
  {
   "cell_type": "code",
   "execution_count": null,
   "metadata": {},
   "outputs": [],
   "source": []
  }
 ],
 "metadata": {
  "kernelspec": {
   "display_name": "Python 3",
   "language": "python",
   "name": "python3"
  },
  "language_info": {
   "codemirror_mode": {
    "name": "ipython",
    "version": 3
   },
   "file_extension": ".py",
   "mimetype": "text/x-python",
   "name": "python",
   "nbconvert_exporter": "python",
   "pygments_lexer": "ipython3",
   "version": "3.8.3"
  }
 },
 "nbformat": 4,
 "nbformat_minor": 4
}
