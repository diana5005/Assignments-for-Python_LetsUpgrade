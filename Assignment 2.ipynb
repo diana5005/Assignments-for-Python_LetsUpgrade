{
 "cells": [
  {
   "cell_type": "markdown",
   "metadata": {},
   "source": [
    "# Question 1"
   ]
  },
  {
   "cell_type": "markdown",
   "metadata": {},
   "source": [
    "Write a Python program to remove empty List from List."
   ]
  },
  {
   "cell_type": "code",
   "execution_count": 3,
   "metadata": {},
   "outputs": [
    {
     "name": "stdout",
     "output_type": "stream",
     "text": [
      "Enter the length of the list\n",
      "7\n",
      "1\n",
      "2\n",
      "[]\n",
      "[]\n",
      "5\n",
      "[]\n",
      "6\n",
      "The original list is :  ['1', '2', '[]', '[]', '5', '[]', '6']\n",
      "List after empty list removal :  ['1', '2', '5', '6']\n"
     ]
    }
   ],
   "source": [
    "length = int(input(\"Enter the length of the list\\n\"))\n",
    "given_list=[]\n",
    "\n",
    "for i in range(length):\n",
    "    ele=input()\n",
    "    given_list.append(ele) \n",
    "    \n",
    "print(\"The original list is : \",given_list)\n",
    "\n",
    "result = [item for item in given_list if item != '[]']\n",
    "\n",
    "print (\"List after empty list removal : \",result)"
   ]
  },
  {
   "cell_type": "markdown",
   "metadata": {},
   "source": [
    "# Question 2"
   ]
  },
  {
   "cell_type": "markdown",
   "metadata": {},
   "source": [
    "Write a Python program to remove all duplicates words from a given sentence"
   ]
  },
  {
   "cell_type": "code",
   "execution_count": 4,
   "metadata": {},
   "outputs": [
    {
     "name": "stdout",
     "output_type": "stream",
     "text": [
      "Enter a sentence\n",
      "I will go to New York to meet my friend.\n",
      "\n",
      "\n",
      "After removing the duplicate words the sentence is :\n",
      " I will go to New York meet my friend.\n"
     ]
    }
   ],
   "source": [
    "from collections import Counter\n",
    "\n",
    "word_list = list(input(\"Enter a sentence\\n\").split())\n",
    "print(\"\\n\")\n",
    "\n",
    "counter= Counter(word_list)\n",
    "\n",
    "new_sentence = \" \".join(counter.keys())\n",
    "print(\"After removing the duplicate words the sentence is :\\n\",new_sentence)\n"
   ]
  },
  {
   "cell_type": "markdown",
   "metadata": {},
   "source": [
    "# Question 3"
   ]
  },
  {
   "cell_type": "markdown",
   "metadata": {},
   "source": [
    "Write a Python program to find all occurrences of a character in the given string"
   ]
  },
  {
   "cell_type": "code",
   "execution_count": 5,
   "metadata": {},
   "outputs": [
    {
     "name": "stdout",
     "output_type": "stream",
     "text": [
      "Enter a string\n",
      "puja das kolkata\n",
      "Enter a charecter\n",
      "a\n",
      "Count of a in puja das kolkata is :  4\n"
     ]
    }
   ],
   "source": [
    "string=input(\"Enter a string\\n\")\n",
    "charecter = input(\"Enter a charecter\\n\")\n",
    "count = string.count(charecter)\n",
    "print(\"Count of\",charecter,\"in\",string,\"is : \",count) "
   ]
  },
  {
   "cell_type": "code",
   "execution_count": null,
   "metadata": {},
   "outputs": [],
   "source": []
  },
  {
   "cell_type": "code",
   "execution_count": null,
   "metadata": {},
   "outputs": [],
   "source": []
  }
 ],
 "metadata": {
  "kernelspec": {
   "display_name": "Python 3",
   "language": "python",
   "name": "python3"
  },
  "language_info": {
   "codemirror_mode": {
    "name": "ipython",
    "version": 3
   },
   "file_extension": ".py",
   "mimetype": "text/x-python",
   "name": "python",
   "nbconvert_exporter": "python",
   "pygments_lexer": "ipython3",
   "version": "3.8.3"
  }
 },
 "nbformat": 4,
 "nbformat_minor": 4
}
